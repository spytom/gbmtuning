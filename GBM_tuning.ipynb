{
 "cells": [
  {
   "cell_type": "markdown",
   "metadata": {},
   "source": [
    "# Parameter Tuning in Gradient Boosting (GBM) in Python \n",
    "Author: Thomas Spycher, March 3rd, 2018\n",
    "\n",
    "\n",
    "GBM is a highly popular prediction model among data scientists or as top Kaggler Owen Zhang describes it: \"My confession: I (over)use GBM. When in doubt, use GBM.\"\n",
    "\n",
    "GradientBoostingClassifier from sklearn is a popular and user friendly application of Gradient Boosting in Python (another nice and even faster tool is xgboost). Apart from setting up the feature space and fitting the model, parameter tuning is a crucial task in finding the model with the highest predictive power. The code provides an example on how to tune parameters in a gradient boosting model for classification. I use a spam email dataset from the HP Lab to predict if an email is spam. The dataset contains 4601 email items, of which 1813 items were identified as spam. For a formal discussion of Gradient Boosting see [here](https://en.wikipedia.org/wiki/Gradient_boosting) and the papers mentioned in the article. The tuning process is based on recommendations by [Owen Zhang](https://nycdatascience.com/blog/meetup/featured-talk-1-kaggle-data-scientist-owen-zhang/) as well as suggestions on [Analytics Vidhya](https://www.analyticsvidhya.com/blog/2016/02/complete-guide-parameter-tuning-gradient-boosting-gbm-python/).\n",
    "\n"
   ]
  },
  {
   "cell_type": "code",
   "execution_count": 2,
   "metadata": {
    "collapsed": true
   },
   "outputs": [],
   "source": [
    "import pandas as pd\n",
    "import sys\n",
    "import numpy as np\n",
    "import scipy as sp\n",
    "import matplotlib\n",
    "import matplotlib.pyplot as plt\n",
    "import seaborn as sns\n",
    "import sklearn as sk\n",
    "from sklearn.model_selection import train_test_split\n",
    "from sklearn.ensemble import GradientBoostingClassifier\n"
   ]
  },
  {
   "cell_type": "markdown",
   "metadata": {},
   "source": [
    "## Load dataset and split into test and train set\n",
    "I use the spam dataset from HP labs via GitHub. The example will focus on tuning the parameters. Feature creating has proven to be highly effective in improving the performance of models. For simplicity, here I use only the given features and simple interactions. The dataset contains the following features:"
   ]
  },
  {
   "cell_type": "markdown",
   "metadata": {},
   "source": [
    "\n",
    "<dl>\n",
    "<dt>crl.tot</dt><dd><p>total length of words in capitals</p>\n",
    "</dd>\n",
    "<dt>dollar</dt><dd><p>number of occurrences of the \\$ symbol</p>\n",
    "</dd>\n",
    "<dt>bang</dt><dd><p>number of occurrences of the ! symbol</p>\n",
    "</dd>\n",
    "<dt>money</dt><dd><p>number of occurrences of the word &lsquo;money&rsquo;</p>\n",
    "</dd>\n",
    "<dt>n000</dt><dd><p>number of occurrences of the string &lsquo;000&rsquo;</p>\n",
    "</dd>\n",
    "<dt>make</dt><dd><p>number of occurrences of the word &lsquo;make&rsquo;</p>\n",
    "</dd>\n",
    "<dt>yesno</dt><dd><p>outcome variable, a factor with levels\n",
    "<code>n</code> not spam,\n",
    "<code>y</code> spam</p>\n",
    "</dd>\n",
    "</dl>"
   ]
  },
  {
   "cell_type": "markdown",
   "metadata": {},
   "source": [
    "### Importing dataset and summary statistics"
   ]
  },
  {
   "cell_type": "code",
   "execution_count": 3,
   "metadata": {},
   "outputs": [
    {
     "data": {
      "text/html": [
       "<div>\n",
       "<style>\n",
       "    .dataframe thead tr:only-child th {\n",
       "        text-align: right;\n",
       "    }\n",
       "\n",
       "    .dataframe thead th {\n",
       "        text-align: left;\n",
       "    }\n",
       "\n",
       "    .dataframe tbody tr th {\n",
       "        vertical-align: top;\n",
       "    }\n",
       "</style>\n",
       "<table border=\"1\" class=\"dataframe\">\n",
       "  <thead>\n",
       "    <tr style=\"text-align: right;\">\n",
       "      <th></th>\n",
       "      <th>crl.tot</th>\n",
       "      <th>dollar</th>\n",
       "      <th>bang</th>\n",
       "      <th>money</th>\n",
       "      <th>n000</th>\n",
       "      <th>make</th>\n",
       "      <th>spam</th>\n",
       "    </tr>\n",
       "  </thead>\n",
       "  <tbody>\n",
       "    <tr>\n",
       "      <th>0</th>\n",
       "      <td>278</td>\n",
       "      <td>0.000</td>\n",
       "      <td>0.778</td>\n",
       "      <td>0.00</td>\n",
       "      <td>0.00</td>\n",
       "      <td>0.00</td>\n",
       "      <td>1</td>\n",
       "    </tr>\n",
       "    <tr>\n",
       "      <th>1</th>\n",
       "      <td>1028</td>\n",
       "      <td>0.180</td>\n",
       "      <td>0.372</td>\n",
       "      <td>0.43</td>\n",
       "      <td>0.43</td>\n",
       "      <td>0.21</td>\n",
       "      <td>1</td>\n",
       "    </tr>\n",
       "    <tr>\n",
       "      <th>2</th>\n",
       "      <td>2259</td>\n",
       "      <td>0.184</td>\n",
       "      <td>0.276</td>\n",
       "      <td>0.06</td>\n",
       "      <td>1.16</td>\n",
       "      <td>0.06</td>\n",
       "      <td>1</td>\n",
       "    </tr>\n",
       "    <tr>\n",
       "      <th>3</th>\n",
       "      <td>191</td>\n",
       "      <td>0.000</td>\n",
       "      <td>0.137</td>\n",
       "      <td>0.00</td>\n",
       "      <td>0.00</td>\n",
       "      <td>0.00</td>\n",
       "      <td>1</td>\n",
       "    </tr>\n",
       "    <tr>\n",
       "      <th>4</th>\n",
       "      <td>191</td>\n",
       "      <td>0.000</td>\n",
       "      <td>0.135</td>\n",
       "      <td>0.00</td>\n",
       "      <td>0.00</td>\n",
       "      <td>0.00</td>\n",
       "      <td>1</td>\n",
       "    </tr>\n",
       "  </tbody>\n",
       "</table>\n",
       "</div>"
      ],
      "text/plain": [
       "   crl.tot  dollar   bang  money  n000  make  spam\n",
       "0      278   0.000  0.778   0.00  0.00  0.00     1\n",
       "1     1028   0.180  0.372   0.43  0.43  0.21     1\n",
       "2     2259   0.184  0.276   0.06  1.16  0.06     1\n",
       "3      191   0.000  0.137   0.00  0.00  0.00     1\n",
       "4      191   0.000  0.135   0.00  0.00  0.00     1"
      ]
     },
     "execution_count": 3,
     "metadata": {},
     "output_type": "execute_result"
    }
   ],
   "source": [
    "ds=pd.read_csv('https://raw.githubusercontent.com/vincentarelbundock/Rdatasets/master/csv/DAAG/spam7.csv')\n",
    "ds['spam'] = ds['yesno'].map({'y': 1, 'n': 0})\n",
    "ds = ds.drop(['Unnamed: 0','yesno',], axis=1)\n",
    "\n",
    "ds.head()\n",
    "\n"
   ]
  },
  {
   "cell_type": "code",
   "execution_count": 4,
   "metadata": {},
   "outputs": [
    {
     "data": {
      "text/plain": [
       "crl.tot    283.289285\n",
       "dollar       0.075811\n",
       "bang         0.269071\n",
       "money        0.094269\n",
       "n000         0.101645\n",
       "make         0.104553\n",
       "spam         0.394045\n",
       "dtype: float64"
      ]
     },
     "execution_count": 4,
     "metadata": {},
     "output_type": "execute_result"
    }
   ],
   "source": [
    "ds.mean()\n"
   ]
  },
  {
   "cell_type": "markdown",
   "metadata": {},
   "source": [
    "The descriptive statistics below give a first idea on which features are correlated with spam emails. Everything related to money (dollar, money, n000) is strongly correlated with spam. Spammers use more words in capitals and the word \"make\" as well as exclamation points more frequently."
   ]
  },
  {
   "cell_type": "code",
   "execution_count": 6,
   "metadata": {},
   "outputs": [
    {
     "data": {
      "text/html": [
       "<div>\n",
       "<style>\n",
       "    .dataframe thead tr:only-child th {\n",
       "        text-align: right;\n",
       "    }\n",
       "\n",
       "    .dataframe thead th {\n",
       "        text-align: left;\n",
       "    }\n",
       "\n",
       "    .dataframe tbody tr th {\n",
       "        vertical-align: top;\n",
       "    }\n",
       "</style>\n",
       "<table border=\"1\" class=\"dataframe\">\n",
       "  <thead>\n",
       "    <tr style=\"text-align: right;\">\n",
       "      <th></th>\n",
       "      <th>crl.tot</th>\n",
       "      <th>dollar</th>\n",
       "      <th>bang</th>\n",
       "      <th>money</th>\n",
       "      <th>n000</th>\n",
       "      <th>make</th>\n",
       "    </tr>\n",
       "    <tr>\n",
       "      <th>spam</th>\n",
       "      <th></th>\n",
       "      <th></th>\n",
       "      <th></th>\n",
       "      <th></th>\n",
       "      <th></th>\n",
       "      <th></th>\n",
       "    </tr>\n",
       "  </thead>\n",
       "  <tbody>\n",
       "    <tr>\n",
       "      <th>0</th>\n",
       "      <td>161.470947</td>\n",
       "      <td>0.011648</td>\n",
       "      <td>0.109984</td>\n",
       "      <td>0.017138</td>\n",
       "      <td>0.007088</td>\n",
       "      <td>0.073479</td>\n",
       "    </tr>\n",
       "    <tr>\n",
       "      <th>1</th>\n",
       "      <td>470.619415</td>\n",
       "      <td>0.174478</td>\n",
       "      <td>0.513713</td>\n",
       "      <td>0.212879</td>\n",
       "      <td>0.247055</td>\n",
       "      <td>0.152339</td>\n",
       "    </tr>\n",
       "  </tbody>\n",
       "</table>\n",
       "</div>"
      ],
      "text/plain": [
       "         crl.tot    dollar      bang     money      n000      make\n",
       "spam                                                              \n",
       "0     161.470947  0.011648  0.109984  0.017138  0.007088  0.073479\n",
       "1     470.619415  0.174478  0.513713  0.212879  0.247055  0.152339"
      ]
     },
     "execution_count": 6,
     "metadata": {},
     "output_type": "execute_result"
    }
   ],
   "source": [
    "ds.groupby(['spam']).mean()\n"
   ]
  },
  {
   "cell_type": "code",
   "execution_count": 7,
   "metadata": {},
   "outputs": [
    {
     "data": {
      "image/png": "[encoded data removed]",
      "text/plain": [
       "<matplotlib.figure.Figure at 0xc19e278>"
      ]
     },
     "metadata": {},
     "output_type": "display_data"
    },
    {
     "data": {
      "text/html": [
       "<div>\n",
       "<style>\n",
       "    .dataframe thead tr:only-child th {\n",
       "        text-align: right;\n",
       "    }\n",
       "\n",
       "    .dataframe thead th {\n",
       "        text-align: left;\n",
       "    }\n",
       "\n",
       "    .dataframe tbody tr th {\n",
       "        vertical-align: top;\n",
       "    }\n",
       "</style>\n",
       "<table border=\"1\" class=\"dataframe\">\n",
       "  <thead>\n",
       "    <tr style=\"text-align: right;\">\n",
       "      <th></th>\n",
       "      <th>crl.tot</th>\n",
       "      <th>dollar</th>\n",
       "      <th>bang</th>\n",
       "      <th>money</th>\n",
       "      <th>n000</th>\n",
       "      <th>make</th>\n",
       "      <th>spam</th>\n",
       "    </tr>\n",
       "  </thead>\n",
       "  <tbody>\n",
       "    <tr>\n",
       "      <th>crl.tot</th>\n",
       "      <td>1.000000</td>\n",
       "      <td>0.201948</td>\n",
       "      <td>0.036321</td>\n",
       "      <td>0.080993</td>\n",
       "      <td>0.165977</td>\n",
       "      <td>0.089165</td>\n",
       "      <td>0.249164</td>\n",
       "    </tr>\n",
       "    <tr>\n",
       "      <th>dollar</th>\n",
       "      <td>0.201948</td>\n",
       "      <td>1.000000</td>\n",
       "      <td>0.142913</td>\n",
       "      <td>0.104691</td>\n",
       "      <td>0.310971</td>\n",
       "      <td>0.117419</td>\n",
       "      <td>0.323629</td>\n",
       "    </tr>\n",
       "    <tr>\n",
       "      <th>bang</th>\n",
       "      <td>0.036321</td>\n",
       "      <td>0.142913</td>\n",
       "      <td>1.000000</td>\n",
       "      <td>0.051076</td>\n",
       "      <td>0.070103</td>\n",
       "      <td>0.058292</td>\n",
       "      <td>0.241888</td>\n",
       "    </tr>\n",
       "    <tr>\n",
       "      <th>money</th>\n",
       "      <td>0.080993</td>\n",
       "      <td>0.104691</td>\n",
       "      <td>0.051076</td>\n",
       "      <td>1.000000</td>\n",
       "      <td>0.052587</td>\n",
       "      <td>0.188155</td>\n",
       "      <td>0.216111</td>\n",
       "    </tr>\n",
       "    <tr>\n",
       "      <th>n000</th>\n",
       "      <td>0.165977</td>\n",
       "      <td>0.310971</td>\n",
       "      <td>0.070103</td>\n",
       "      <td>0.052587</td>\n",
       "      <td>1.000000</td>\n",
       "      <td>0.134072</td>\n",
       "      <td>0.334787</td>\n",
       "    </tr>\n",
       "    <tr>\n",
       "      <th>make</th>\n",
       "      <td>0.089165</td>\n",
       "      <td>0.117419</td>\n",
       "      <td>0.058292</td>\n",
       "      <td>0.188155</td>\n",
       "      <td>0.134072</td>\n",
       "      <td>1.000000</td>\n",
       "      <td>0.126208</td>\n",
       "    </tr>\n",
       "    <tr>\n",
       "      <th>spam</th>\n",
       "      <td>0.249164</td>\n",
       "      <td>0.323629</td>\n",
       "      <td>0.241888</td>\n",
       "      <td>0.216111</td>\n",
       "      <td>0.334787</td>\n",
       "      <td>0.126208</td>\n",
       "      <td>1.000000</td>\n",
       "    </tr>\n",
       "  </tbody>\n",
       "</table>\n",
       "</div>"
      ],
      "text/plain": [
       "          crl.tot    dollar      bang     money      n000      make      spam\n",
       "crl.tot  1.000000  0.201948  0.036321  0.080993  0.165977  0.089165  0.249164\n",
       "dollar   0.201948  1.000000  0.142913  0.104691  0.310971  0.117419  0.323629\n",
       "bang     0.036321  0.142913  1.000000  0.051076  0.070103  0.058292  0.241888\n",
       "money    0.080993  0.104691  0.051076  1.000000  0.052587  0.188155  0.216111\n",
       "n000     0.165977  0.310971  0.070103  0.052587  1.000000  0.134072  0.334787\n",
       "make     0.089165  0.117419  0.058292  0.188155  0.134072  1.000000  0.126208\n",
       "spam     0.249164  0.323629  0.241888  0.216111  0.334787  0.126208  1.000000"
      ]
     },
     "execution_count": 7,
     "metadata": {},
     "output_type": "execute_result"
    }
   ],
   "source": [
    "correlations = ds.corr()\n",
    "fig = plt.figure()\n",
    "ax = fig.add_subplot(111)\n",
    "cax = ax.matshow(correlations, vmin=-1, vmax=1)\n",
    "fig.colorbar(cax)\n",
    "names = ['']+list(ds)\n",
    "ax.set_xticklabels(names)\n",
    "ax.set_yticklabels(names)\n",
    "plt.show()\n",
    "correlations"
   ]
  },
  {
   "cell_type": "markdown",
   "metadata": {},
   "source": [
    "### Set Y and X space, generate interaction terms, split dataset in train and test\n",
    "We expand the feature space by creating interaction terms. (Patsy is a great scikit-learn tool to create many interaction terms with one line of code) "
   ]
  },
  {
   "cell_type": "code",
   "execution_count": 8,
   "metadata": {
    "collapsed": true
   },
   "outputs": [],
   "source": [
    "y =ds.spam\n",
    "df= ds.loc[:, ds.columns != 'spam']\n",
    "\n"
   ]
  },
  {
   "cell_type": "code",
   "execution_count": 9,
   "metadata": {
    "collapsed": true
   },
   "outputs": [],
   "source": [
    "#add features by generating interaction terms\n",
    "dollar_bang=df['dollar']*df['bang']\n",
    "dollar_money=df['dollar']*df['money']\n",
    "dollar_n000=df['dollar']*df['n000']\n",
    "dollar_make=df['dollar']*df['make']\n",
    "dollar_crl=df['dollar']*df['crl.tot']\n",
    "\n",
    "bang_money=df['bang']*df['money']\n",
    "bang_n000=df['bang']*df['n000']\n",
    "bang_make=df['bang']*df['make']\n",
    "bang_crl=df['bang']*df['crl.tot']\n",
    "\n",
    "money_n000=df['money']*df['n000']\n",
    "money_make=df['money']*df['make']\n",
    "money_crl=df['money']*df['crl.tot']\n",
    "\n",
    "n000_make=df['n000']*df['make']\n",
    "n000_crl=df['n000']*df['crl.tot']\n",
    "\n",
    "make_crl=df['make']*df['crl.tot']"
   ]
  },
  {
   "cell_type": "code",
   "execution_count": 10,
   "metadata": {
    "collapsed": true
   },
   "outputs": [],
   "source": [
    "df=df.assign(dollar_bank=dollar_bang,dollar_money=dollar_money,dollar_n000=dollar_n000,dollar_make=dollar_make,dollar_crl=dollar_crl,bang_money=bang_money, bang_n000=bang_n000,bang_make=bang_make,bang_crl=bang_crl,money_n000=money_n000,money_make=money_make,money_crl=money_crl,n000_make=n000_make,n000_crl=n000_crl,make_crl=make_crl)\n",
    "             "
   ]
  },
  {
   "cell_type": "code",
   "execution_count": 12,
   "metadata": {},
   "outputs": [
    {
     "data": {
      "text/html": [
       "<div>\n",
       "<style>\n",
       "    .dataframe thead tr:only-child th {\n",
       "        text-align: right;\n",
       "    }\n",
       "\n",
       "    .dataframe thead th {\n",
       "        text-align: left;\n",
       "    }\n",
       "\n",
       "    .dataframe tbody tr th {\n",
       "        vertical-align: top;\n",
       "    }\n",
       "</style>\n",
       "<table border=\"1\" class=\"dataframe\">\n",
       "  <thead>\n",
       "    <tr style=\"text-align: right;\">\n",
       "      <th></th>\n",
       "      <th>crl.tot</th>\n",
       "      <th>dollar</th>\n",
       "      <th>bang</th>\n",
       "      <th>money</th>\n",
       "      <th>n000</th>\n",
       "      <th>make</th>\n",
       "      <th>bang_crl</th>\n",
       "      <th>bang_make</th>\n",
       "      <th>bang_money</th>\n",
       "      <th>bang_n000</th>\n",
       "      <th>...</th>\n",
       "      <th>dollar_crl</th>\n",
       "      <th>dollar_make</th>\n",
       "      <th>dollar_money</th>\n",
       "      <th>dollar_n000</th>\n",
       "      <th>make_crl</th>\n",
       "      <th>money_crl</th>\n",
       "      <th>money_make</th>\n",
       "      <th>money_n000</th>\n",
       "      <th>n000_crl</th>\n",
       "      <th>n000_make</th>\n",
       "    </tr>\n",
       "  </thead>\n",
       "  <tbody>\n",
       "    <tr>\n",
       "      <th>0</th>\n",
       "      <td>278</td>\n",
       "      <td>0.000</td>\n",
       "      <td>0.778</td>\n",
       "      <td>0.00</td>\n",
       "      <td>0.00</td>\n",
       "      <td>0.00</td>\n",
       "      <td>216.284</td>\n",
       "      <td>0.00000</td>\n",
       "      <td>0.00000</td>\n",
       "      <td>0.00000</td>\n",
       "      <td>...</td>\n",
       "      <td>0.000</td>\n",
       "      <td>0.00000</td>\n",
       "      <td>0.00000</td>\n",
       "      <td>0.00000</td>\n",
       "      <td>0.00</td>\n",
       "      <td>0.00</td>\n",
       "      <td>0.0000</td>\n",
       "      <td>0.0000</td>\n",
       "      <td>0.00</td>\n",
       "      <td>0.0000</td>\n",
       "    </tr>\n",
       "    <tr>\n",
       "      <th>1</th>\n",
       "      <td>1028</td>\n",
       "      <td>0.180</td>\n",
       "      <td>0.372</td>\n",
       "      <td>0.43</td>\n",
       "      <td>0.43</td>\n",
       "      <td>0.21</td>\n",
       "      <td>382.416</td>\n",
       "      <td>0.07812</td>\n",
       "      <td>0.15996</td>\n",
       "      <td>0.15996</td>\n",
       "      <td>...</td>\n",
       "      <td>185.040</td>\n",
       "      <td>0.03780</td>\n",
       "      <td>0.07740</td>\n",
       "      <td>0.07740</td>\n",
       "      <td>215.88</td>\n",
       "      <td>442.04</td>\n",
       "      <td>0.0903</td>\n",
       "      <td>0.1849</td>\n",
       "      <td>442.04</td>\n",
       "      <td>0.0903</td>\n",
       "    </tr>\n",
       "    <tr>\n",
       "      <th>2</th>\n",
       "      <td>2259</td>\n",
       "      <td>0.184</td>\n",
       "      <td>0.276</td>\n",
       "      <td>0.06</td>\n",
       "      <td>1.16</td>\n",
       "      <td>0.06</td>\n",
       "      <td>623.484</td>\n",
       "      <td>0.01656</td>\n",
       "      <td>0.01656</td>\n",
       "      <td>0.32016</td>\n",
       "      <td>...</td>\n",
       "      <td>415.656</td>\n",
       "      <td>0.01104</td>\n",
       "      <td>0.01104</td>\n",
       "      <td>0.21344</td>\n",
       "      <td>135.54</td>\n",
       "      <td>135.54</td>\n",
       "      <td>0.0036</td>\n",
       "      <td>0.0696</td>\n",
       "      <td>2620.44</td>\n",
       "      <td>0.0696</td>\n",
       "    </tr>\n",
       "    <tr>\n",
       "      <th>3</th>\n",
       "      <td>191</td>\n",
       "      <td>0.000</td>\n",
       "      <td>0.137</td>\n",
       "      <td>0.00</td>\n",
       "      <td>0.00</td>\n",
       "      <td>0.00</td>\n",
       "      <td>26.167</td>\n",
       "      <td>0.00000</td>\n",
       "      <td>0.00000</td>\n",
       "      <td>0.00000</td>\n",
       "      <td>...</td>\n",
       "      <td>0.000</td>\n",
       "      <td>0.00000</td>\n",
       "      <td>0.00000</td>\n",
       "      <td>0.00000</td>\n",
       "      <td>0.00</td>\n",
       "      <td>0.00</td>\n",
       "      <td>0.0000</td>\n",
       "      <td>0.0000</td>\n",
       "      <td>0.00</td>\n",
       "      <td>0.0000</td>\n",
       "    </tr>\n",
       "    <tr>\n",
       "      <th>4</th>\n",
       "      <td>191</td>\n",
       "      <td>0.000</td>\n",
       "      <td>0.135</td>\n",
       "      <td>0.00</td>\n",
       "      <td>0.00</td>\n",
       "      <td>0.00</td>\n",
       "      <td>25.785</td>\n",
       "      <td>0.00000</td>\n",
       "      <td>0.00000</td>\n",
       "      <td>0.00000</td>\n",
       "      <td>...</td>\n",
       "      <td>0.000</td>\n",
       "      <td>0.00000</td>\n",
       "      <td>0.00000</td>\n",
       "      <td>0.00000</td>\n",
       "      <td>0.00</td>\n",
       "      <td>0.00</td>\n",
       "      <td>0.0000</td>\n",
       "      <td>0.0000</td>\n",
       "      <td>0.00</td>\n",
       "      <td>0.0000</td>\n",
       "    </tr>\n",
       "  </tbody>\n",
       "</table>\n",
       "<p>5 rows × 21 columns</p>\n",
       "</div>"
      ],
      "text/plain": [
       "   crl.tot  dollar   bang  money  n000  make  bang_crl  bang_make  bang_money  \\\n",
       "0      278   0.000  0.778   0.00  0.00  0.00   216.284    0.00000     0.00000   \n",
       "1     1028   0.180  0.372   0.43  0.43  0.21   382.416    0.07812     0.15996   \n",
       "2     2259   0.184  0.276   0.06  1.16  0.06   623.484    0.01656     0.01656   \n",
       "3      191   0.000  0.137   0.00  0.00  0.00    26.167    0.00000     0.00000   \n",
       "4      191   0.000  0.135   0.00  0.00  0.00    25.785    0.00000     0.00000   \n",
       "\n",
       "   bang_n000    ...      dollar_crl  dollar_make  dollar_money  dollar_n000  \\\n",
       "0    0.00000    ...           0.000      0.00000       0.00000      0.00000   \n",
       "1    0.15996    ...         185.040      0.03780       0.07740      0.07740   \n",
       "2    0.32016    ...         415.656      0.01104       0.01104      0.21344   \n",
       "3    0.00000    ...           0.000      0.00000       0.00000      0.00000   \n",
       "4    0.00000    ...           0.000      0.00000       0.00000      0.00000   \n",
       "\n",
       "   make_crl  money_crl  money_make  money_n000  n000_crl  n000_make  \n",
       "0      0.00       0.00      0.0000      0.0000      0.00     0.0000  \n",
       "1    215.88     442.04      0.0903      0.1849    442.04     0.0903  \n",
       "2    135.54     135.54      0.0036      0.0696   2620.44     0.0696  \n",
       "3      0.00       0.00      0.0000      0.0000      0.00     0.0000  \n",
       "4      0.00       0.00      0.0000      0.0000      0.00     0.0000  \n",
       "\n",
       "[5 rows x 21 columns]"
      ]
     },
     "execution_count": 12,
     "metadata": {},
     "output_type": "execute_result"
    }
   ],
   "source": [
    "df.head()"
   ]
  },
  {
   "cell_type": "markdown",
   "metadata": {},
   "source": [
    "Split dataset into train and test set."
   ]
  },
  {
   "cell_type": "code",
   "execution_count": 14,
   "metadata": {
    "collapsed": true
   },
   "outputs": [],
   "source": [
    "X_train, X_test, y_train, y_test = train_test_split(df, y, test_size=0.2)"
   ]
  },
  {
   "cell_type": "markdown",
   "metadata": {},
   "source": [
    "## Run a baseline model without tuning\n",
    "I use the following baseline scikit-learn library settings.<br>\n",
    "#### Tree specific parameters\n",
    "n_estimators=100 (number of trees) <br>\n",
    "max_depth=3 <br>\n",
    "min_samples_split=2 <br>\n",
    "min_samples_leaf=1 <br>\n",
    "subsample=1.0 <br>\n",
    "#### Other Parameters\n",
    "learning_rate=0.1 (shrinkage) <br>\n",
    "subsample: 1 <br>\n"
   ]
  },
  {
   "cell_type": "code",
   "execution_count": 33,
   "metadata": {},
   "outputs": [
    {
     "name": "stdout",
     "output_type": "stream",
     "text": [
      "Accuracy of the GBM on test set: 0.882\n",
      "             precision    recall  f1-score   support\n",
      "\n",
      "          0       0.87      0.94      0.91       553\n",
      "          1       0.90      0.79      0.84       368\n",
      "\n",
      "avg / total       0.88      0.88      0.88       921\n",
      "\n"
     ]
    },
    {
     "data": {
      "image/png": "[encoded data removed]",
      "text/plain": [
       "<matplotlib.figure.Figure at 0xd2c0a20>"
      ]
     },
     "metadata": {},
     "output_type": "display_data"
    }
   ],
   "source": [
    "from sklearn.ensemble import GradientBoostingClassifier\n",
    "from sklearn.metrics import classification_report\n",
    "from sklearn.grid_search import GridSearchCV\n",
    "\n",
    "\n",
    "baseline = GradientBoostingClassifier(learning_rate=0.1, n_estimators=100,max_depth=3, min_samples_split=2, min_samples_leaf=1, subsample=1,max_features='sqrt', random_state=10)\n",
    "baseline.fit(X_train,y_train)\n",
    "predictors=list(X_train)\n",
    "feat_imp = pd.Series(baseline.feature_importances_, predictors).sort_values(ascending=False)\n",
    "feat_imp.plot(kind='bar', title='Importance of Features')\n",
    "plt.ylabel('Feature Importance Score')\n",
    "print('Accuracy of the GBM on test set: {:.3f}'.format(baseline.score(X_test, y_test)))\n",
    "pred=baseline.predict(X_test)\n",
    "print(classification_report(y_test, pred))"
   ]
  },
  {
   "cell_type": "markdown",
   "metadata": {
    "scrolled": true
   },
   "source": [
    "The plot displays the importance of the feature: The number of words in capital and bang seem to have the highest predictive power.\n",
    "\n",
    "With this first model, we obtain a rate of 0.90 of true positives (positive meaning spam) and 0.87 true negatives and an accuracy of 0.88. \n",
    "\n"
   ]
  },
  {
   "cell_type": "markdown",
   "metadata": {},
   "source": [
    "## Tuning parameters\n",
    "Many strategies exist on how to tune parameters. See for example this blog post on [Machine Learning Mastery](https://machinelearningmastery.com/configure-gradient-boosting-algorithm/) for some guidance from academic papers. Most data scientist see *number of trees*, *tree depth* and *the learning rate* as most crucial parameters. \n",
    "\n",
    "Hence, we will start off with these three and then move to other tree-specific parameters and the subsamples. I will use 5-fold cross validation and evaluate models based on *accuracy*. You may also consider to evaluate the model based on a different measure such as *roc_auc*.\n"
   ]
  },
  {
   "cell_type": "markdown",
   "metadata": {},
   "source": [
    "### Tunign n_estimators and Learning rate \n",
    "n_estimators captures the number of trees that we add to the model. A high number of trees can be computationally expensive. Generally, with a change in learning rate,n_estimators should also be adjusted (10-fold decrease in learning_rate should go in line with a approx. 10-fold increase in n_estimators."
   ]
  },
  {
   "cell_type": "code",
   "execution_count": 18,
   "metadata": {},
   "outputs": [
    {
     "data": {
      "text/plain": [
       "([mean: 0.87500, std: 0.00909, params: {'learning_rate': 0.15, 'n_estimators': 100},\n",
       "  mean: 0.87174, std: 0.01015, params: {'learning_rate': 0.15, 'n_estimators': 250},\n",
       "  mean: 0.87174, std: 0.01142, params: {'learning_rate': 0.15, 'n_estimators': 500},\n",
       "  mean: 0.86929, std: 0.01201, params: {'learning_rate': 0.15, 'n_estimators': 750},\n",
       "  mean: 0.86712, std: 0.01368, params: {'learning_rate': 0.15, 'n_estimators': 1000},\n",
       "  mean: 0.86522, std: 0.01249, params: {'learning_rate': 0.15, 'n_estimators': 1250},\n",
       "  mean: 0.86413, std: 0.01269, params: {'learning_rate': 0.15, 'n_estimators': 1500},\n",
       "  mean: 0.86440, std: 0.01279, params: {'learning_rate': 0.15, 'n_estimators': 1750},\n",
       "  mean: 0.87826, std: 0.00809, params: {'learning_rate': 0.1, 'n_estimators': 100},\n",
       "  mean: 0.87473, std: 0.00532, params: {'learning_rate': 0.1, 'n_estimators': 250},\n",
       "  mean: 0.87418, std: 0.00951, params: {'learning_rate': 0.1, 'n_estimators': 500},\n",
       "  mean: 0.87147, std: 0.01033, params: {'learning_rate': 0.1, 'n_estimators': 750},\n",
       "  mean: 0.86875, std: 0.01211, params: {'learning_rate': 0.1, 'n_estimators': 1000},\n",
       "  mean: 0.86984, std: 0.01223, params: {'learning_rate': 0.1, 'n_estimators': 1250},\n",
       "  mean: 0.86848, std: 0.01384, params: {'learning_rate': 0.1, 'n_estimators': 1500},\n",
       "  mean: 0.86793, std: 0.01379, params: {'learning_rate': 0.1, 'n_estimators': 1750},\n",
       "  mean: 0.87772, std: 0.00829, params: {'learning_rate': 0.05, 'n_estimators': 100},\n",
       "  mean: 0.87554, std: 0.00685, params: {'learning_rate': 0.05, 'n_estimators': 250},\n",
       "  mean: 0.87418, std: 0.01065, params: {'learning_rate': 0.05, 'n_estimators': 500},\n",
       "  mean: 0.87364, std: 0.01334, params: {'learning_rate': 0.05, 'n_estimators': 750},\n",
       "  mean: 0.87337, std: 0.01284, params: {'learning_rate': 0.05, 'n_estimators': 1000},\n",
       "  mean: 0.87446, std: 0.01199, params: {'learning_rate': 0.05, 'n_estimators': 1250},\n",
       "  mean: 0.87364, std: 0.01345, params: {'learning_rate': 0.05, 'n_estimators': 1500},\n",
       "  mean: 0.87310, std: 0.01282, params: {'learning_rate': 0.05, 'n_estimators': 1750},\n",
       "  mean: 0.87554, std: 0.00605, params: {'learning_rate': 0.01, 'n_estimators': 100},\n",
       "  mean: 0.87717, std: 0.00611, params: {'learning_rate': 0.01, 'n_estimators': 250},\n",
       "  mean: 0.87772, std: 0.00855, params: {'learning_rate': 0.01, 'n_estimators': 500},\n",
       "  mean: 0.87717, std: 0.00818, params: {'learning_rate': 0.01, 'n_estimators': 750},\n",
       "  mean: 0.87799, std: 0.00794, params: {'learning_rate': 0.01, 'n_estimators': 1000},\n",
       "  mean: 0.87690, std: 0.00722, params: {'learning_rate': 0.01, 'n_estimators': 1250},\n",
       "  mean: 0.87880, std: 0.00566, params: {'learning_rate': 0.01, 'n_estimators': 1500},\n",
       "  mean: 0.87799, std: 0.00651, params: {'learning_rate': 0.01, 'n_estimators': 1750},\n",
       "  mean: 0.85109, std: 0.01294, params: {'learning_rate': 0.005, 'n_estimators': 100},\n",
       "  mean: 0.87554, std: 0.00663, params: {'learning_rate': 0.005, 'n_estimators': 250},\n",
       "  mean: 0.87663, std: 0.00746, params: {'learning_rate': 0.005, 'n_estimators': 500},\n",
       "  mean: 0.87745, std: 0.00822, params: {'learning_rate': 0.005, 'n_estimators': 750},\n",
       "  mean: 0.87853, std: 0.00928, params: {'learning_rate': 0.005, 'n_estimators': 1000},\n",
       "  mean: 0.87826, std: 0.00916, params: {'learning_rate': 0.005, 'n_estimators': 1250},\n",
       "  mean: 0.87826, std: 0.00849, params: {'learning_rate': 0.005, 'n_estimators': 1500},\n",
       "  mean: 0.87826, std: 0.00786, params: {'learning_rate': 0.005, 'n_estimators': 1750},\n",
       "  mean: 0.60734, std: 0.00000, params: {'learning_rate': 0.001, 'n_estimators': 100},\n",
       "  mean: 0.78043, std: 0.01189, params: {'learning_rate': 0.001, 'n_estimators': 250},\n",
       "  mean: 0.86087, std: 0.00587, params: {'learning_rate': 0.001, 'n_estimators': 500},\n",
       "  mean: 0.87391, std: 0.00598, params: {'learning_rate': 0.001, 'n_estimators': 750},\n",
       "  mean: 0.87582, std: 0.00534, params: {'learning_rate': 0.001, 'n_estimators': 1000},\n",
       "  mean: 0.87609, std: 0.00560, params: {'learning_rate': 0.001, 'n_estimators': 1250},\n",
       "  mean: 0.87690, std: 0.00599, params: {'learning_rate': 0.001, 'n_estimators': 1500},\n",
       "  mean: 0.87717, std: 0.00691, params: {'learning_rate': 0.001, 'n_estimators': 1750}],\n",
       " {'learning_rate': 0.01, 'n_estimators': 1500},\n",
       " 0.878804347826087)"
      ]
     },
     "execution_count": 18,
     "metadata": {},
     "output_type": "execute_result"
    }
   ],
   "source": [
    "p_test3 = {'learning_rate':[0.15,0.1,0.05,0.01,0.005,0.001], 'n_estimators':[100,250,500,750,1000,1250,1500,1750]}\n",
    "\n",
    "tuning = GridSearchCV(estimator =GradientBoostingClassifier(max_depth=4, min_samples_split=2, min_samples_leaf=1, subsample=1,max_features='sqrt', random_state=10), \n",
    "            param_grid = p_test3, scoring='accuracy',n_jobs=4,iid=False, cv=5)\n",
    "tuning.fit(X_train,y_train)\n",
    "tuning.grid_scores_, tuning.best_params_, tuning.best_score_"
   ]
  },
  {
   "cell_type": "markdown",
   "metadata": {},
   "source": [
    "### max_depth\n",
    "max_depth bounds the maximum depth of the tree. We can use the obtained results to tune the max_depth parameter. There is one interesting comment on depth in the scikit-learn [documentation](http://scikit-learn.org/stable/modules/ensemble.html#gradient-tree-boosting) especially relevant for large datasets: *\"We found that max_leaf_nodes=k gives comparable results to max_depth=k-1 but is significantly faster to train at the expense of a slightly higher training error.\"*"
   ]
  },
  {
   "cell_type": "code",
   "execution_count": 19,
   "metadata": {},
   "outputs": [
    {
     "data": {
      "text/plain": [
       "([mean: 0.87853, std: 0.00752, params: {'max_depth': 2},\n",
       "  mean: 0.87826, std: 0.00836, params: {'max_depth': 3},\n",
       "  mean: 0.87880, std: 0.00566, params: {'max_depth': 4},\n",
       "  mean: 0.87826, std: 0.01026, params: {'max_depth': 5},\n",
       "  mean: 0.87663, std: 0.01154, params: {'max_depth': 6},\n",
       "  mean: 0.87582, std: 0.01075, params: {'max_depth': 7}],\n",
       " {'max_depth': 4},\n",
       " 0.878804347826087)"
      ]
     },
     "execution_count": 19,
     "metadata": {},
     "output_type": "execute_result"
    }
   ],
   "source": [
    "p_test2 = {'max_depth':[2,3,4,5,6,7] }\n",
    "tuning = GridSearchCV(estimator =GradientBoostingClassifier(learning_rate=0.01,n_estimators=1500, min_samples_split=2, min_samples_leaf=1, subsample=1,max_features='sqrt', random_state=10), \n",
    "            param_grid = p_test2, scoring='accuracy',n_jobs=4,iid=False, cv=5)\n",
    "tuning.fit(X_train,y_train)\n",
    "tuning.grid_scores_, tuning.best_params_, tuning.best_score_\n"
   ]
  },
  {
   "cell_type": "markdown",
   "metadata": {},
   "source": [
    "## First evaluation of new model on test set\n",
    "The model's performance did improve with the tuning. The \"true positive\" and the \"true negative\" rate improved. Interestingly, there was also a slight change in the ranking of feature importance with the interaction of bang and crl_tot now ranked first."
   ]
  },
  {
   "cell_type": "code",
   "execution_count": 32,
   "metadata": {},
   "outputs": [
    {
     "name": "stdout",
     "output_type": "stream",
     "text": [
      "Accuracy of the GBM on test set: 0.891\n",
      "             precision    recall  f1-score   support\n",
      "\n",
      "          0       0.88      0.95      0.91       553\n",
      "          1       0.92      0.80      0.85       368\n",
      "\n",
      "avg / total       0.89      0.89      0.89       921\n",
      "\n"
     ]
    },
    {
     "data": {
      "image/png": "[encoded data removed]",
      "text/plain": [
       "<matplotlib.figure.Figure at 0xd342be0>"
      ]
     },
     "metadata": {},
     "output_type": "display_data"
    }
   ],
   "source": [
    "model1 = GradientBoostingClassifier(learning_rate=0.01, n_estimators=1500,max_depth=4, min_samples_split=2, min_samples_leaf=1, subsample=1,max_features='sqrt', random_state=10)\n",
    "model1.fit(X_train,y_train)\n",
    "predictors=list(X_train)\n",
    "feat_imp = pd.Series(model1.feature_importances_, predictors).sort_values(ascending=False)\n",
    "feat_imp.plot(kind='bar', title='Importance of Features')\n",
    "plt.ylabel('Feature Importance Score')\n",
    "print('Accuracy of the GBM on test set: {:.3f}'.format(model1.score(X_test, y_test)))\n",
    "pred=model1.predict(X_test)\n",
    "print(classification_report(y_test, pred))"
   ]
  },
  {
   "cell_type": "markdown",
   "metadata": {},
   "source": [
    "## Other factors\n",
    "### Tree related parameters"
   ]
  },
  {
   "cell_type": "markdown",
   "metadata": {},
   "source": [
    "### Min sample split and min samples leaf\n",
    "min_samples_split sets the minimum number of samples to split while min_samples_leaf sets the minimum number of samples to form a leaf (Notice the slight difference). "
   ]
  },
  {
   "cell_type": "code",
   "execution_count": 22,
   "metadata": {},
   "outputs": [
    {
     "data": {
      "text/plain": [
       "([mean: 0.87880, std: 0.00566, params: {'min_samples_leaf': 1, 'min_samples_split': 2},\n",
       "  mean: 0.87880, std: 0.00579, params: {'min_samples_leaf': 1, 'min_samples_split': 4},\n",
       "  mean: 0.87745, std: 0.00662, params: {'min_samples_leaf': 1, 'min_samples_split': 6},\n",
       "  mean: 0.87717, std: 0.00605, params: {'min_samples_leaf': 1, 'min_samples_split': 8},\n",
       "  mean: 0.87745, std: 0.00651, params: {'min_samples_leaf': 1, 'min_samples_split': 10},\n",
       "  mean: 0.87690, std: 0.00635, params: {'min_samples_leaf': 1, 'min_samples_split': 20},\n",
       "  mean: 0.87799, std: 0.00799, params: {'min_samples_leaf': 1, 'min_samples_split': 40},\n",
       "  mean: 0.87636, std: 0.00626, params: {'min_samples_leaf': 1, 'min_samples_split': 60},\n",
       "  mean: 0.87663, std: 0.00616, params: {'min_samples_leaf': 1, 'min_samples_split': 100},\n",
       "  mean: 0.87772, std: 0.00783, params: {'min_samples_leaf': 3, 'min_samples_split': 2},\n",
       "  mean: 0.87772, std: 0.00783, params: {'min_samples_leaf': 3, 'min_samples_split': 4},\n",
       "  mean: 0.87772, std: 0.00783, params: {'min_samples_leaf': 3, 'min_samples_split': 6},\n",
       "  mean: 0.87826, std: 0.00822, params: {'min_samples_leaf': 3, 'min_samples_split': 8},\n",
       "  mean: 0.87908, std: 0.00806, params: {'min_samples_leaf': 3, 'min_samples_split': 10},\n",
       "  mean: 0.87853, std: 0.00916, params: {'min_samples_leaf': 3, 'min_samples_split': 20},\n",
       "  mean: 0.87853, std: 0.00853, params: {'min_samples_leaf': 3, 'min_samples_split': 40},\n",
       "  mean: 0.87935, std: 0.00848, params: {'min_samples_leaf': 3, 'min_samples_split': 60},\n",
       "  mean: 0.87908, std: 0.00980, params: {'min_samples_leaf': 3, 'min_samples_split': 100},\n",
       "  mean: 0.87908, std: 0.00855, params: {'min_samples_leaf': 5, 'min_samples_split': 2},\n",
       "  mean: 0.87908, std: 0.00855, params: {'min_samples_leaf': 5, 'min_samples_split': 4},\n",
       "  mean: 0.87908, std: 0.00855, params: {'min_samples_leaf': 5, 'min_samples_split': 6},\n",
       "  mean: 0.87908, std: 0.00855, params: {'min_samples_leaf': 5, 'min_samples_split': 8},\n",
       "  mean: 0.87908, std: 0.00855, params: {'min_samples_leaf': 5, 'min_samples_split': 10},\n",
       "  mean: 0.87935, std: 0.00785, params: {'min_samples_leaf': 5, 'min_samples_split': 20},\n",
       "  mean: 0.88016, std: 0.00886, params: {'min_samples_leaf': 5, 'min_samples_split': 40},\n",
       "  mean: 0.87962, std: 0.00928, params: {'min_samples_leaf': 5, 'min_samples_split': 60},\n",
       "  mean: 0.87935, std: 0.01007, params: {'min_samples_leaf': 5, 'min_samples_split': 100},\n",
       "  mean: 0.87962, std: 0.00862, params: {'min_samples_leaf': 7, 'min_samples_split': 2},\n",
       "  mean: 0.87962, std: 0.00862, params: {'min_samples_leaf': 7, 'min_samples_split': 4},\n",
       "  mean: 0.87962, std: 0.00862, params: {'min_samples_leaf': 7, 'min_samples_split': 6},\n",
       "  mean: 0.87962, std: 0.00862, params: {'min_samples_leaf': 7, 'min_samples_split': 8},\n",
       "  mean: 0.87962, std: 0.00862, params: {'min_samples_leaf': 7, 'min_samples_split': 10},\n",
       "  mean: 0.88071, std: 0.00915, params: {'min_samples_leaf': 7, 'min_samples_split': 20},\n",
       "  mean: 0.88098, std: 0.01004, params: {'min_samples_leaf': 7, 'min_samples_split': 40},\n",
       "  mean: 0.87935, std: 0.00962, params: {'min_samples_leaf': 7, 'min_samples_split': 60},\n",
       "  mean: 0.87935, std: 0.00931, params: {'min_samples_leaf': 7, 'min_samples_split': 100},\n",
       "  mean: 0.87989, std: 0.00904, params: {'min_samples_leaf': 9, 'min_samples_split': 2},\n",
       "  mean: 0.87989, std: 0.00904, params: {'min_samples_leaf': 9, 'min_samples_split': 4},\n",
       "  mean: 0.87989, std: 0.00904, params: {'min_samples_leaf': 9, 'min_samples_split': 6},\n",
       "  mean: 0.87989, std: 0.00904, params: {'min_samples_leaf': 9, 'min_samples_split': 8},\n",
       "  mean: 0.87989, std: 0.00904, params: {'min_samples_leaf': 9, 'min_samples_split': 10},\n",
       "  mean: 0.87880, std: 0.00736, params: {'min_samples_leaf': 9, 'min_samples_split': 20},\n",
       "  mean: 0.87989, std: 0.00912, params: {'min_samples_leaf': 9, 'min_samples_split': 40},\n",
       "  mean: 0.87989, std: 0.00920, params: {'min_samples_leaf': 9, 'min_samples_split': 60},\n",
       "  mean: 0.87935, std: 0.00870, params: {'min_samples_leaf': 9, 'min_samples_split': 100}],\n",
       " {'min_samples_leaf': 7, 'min_samples_split': 40},\n",
       " 0.8809782608695652)"
      ]
     },
     "execution_count": 22,
     "metadata": {},
     "output_type": "execute_result"
    }
   ],
   "source": [
    "p_test4 = {'min_samples_split':[2,4,6,8,10,20,40,60,100], 'min_samples_leaf':[1,3,5,7,9]}\n",
    "\n",
    "tuning = GridSearchCV(estimator =GradientBoostingClassifier(learning_rate=0.01, n_estimators=1500,max_depth=4, subsample=1,max_features='sqrt', random_state=10), \n",
    "            param_grid = p_test4, scoring='accuracy',n_jobs=4,iid=False, cv=5)\n",
    "tuning.fit(X_train,y_train)\n",
    "tuning.grid_scores_, tuning.best_params_, tuning.best_score_\n"
   ]
  },
  {
   "cell_type": "markdown",
   "metadata": {
    "collapsed": true
   },
   "source": [
    "### Max features\n",
    "The square root of features is usually a good starting point. Let's use CV to tune the parameter. \n",
    "The tuning suggests to use 4 features (close to the sqrt of 21)."
   ]
  },
  {
   "cell_type": "code",
   "execution_count": 23,
   "metadata": {},
   "outputs": [
    {
     "data": {
      "text/plain": [
       "([mean: 0.87826, std: 0.00951, params: {'max_features': 2},\n",
       "  mean: 0.87962, std: 0.01004, params: {'max_features': 3},\n",
       "  mean: 0.88098, std: 0.01004, params: {'max_features': 4},\n",
       "  mean: 0.88043, std: 0.01028, params: {'max_features': 5},\n",
       "  mean: 0.88098, std: 0.00955, params: {'max_features': 6},\n",
       "  mean: 0.87935, std: 0.00939, params: {'max_features': 7}],\n",
       " {'max_features': 4},\n",
       " 0.8809782608695652)"
      ]
     },
     "execution_count": 23,
     "metadata": {},
     "output_type": "execute_result"
    }
   ],
   "source": [
    "#TUNING MAX FEATURES\n",
    "p_test5 = {'max_features':[2,3,4,5,6,7]}\n",
    "tuning = GridSearchCV(estimator =GradientBoostingClassifier(learning_rate=0.01, n_estimators=1500,max_depth=4, min_samples_split=40, min_samples_leaf=7, subsample=1, random_state=10), \n",
    "param_grid = p_test5, scoring='accuracy',n_jobs=4,iid=False, cv=5)\n",
    "tuning.fit(X_train,y_train)\n",
    "tuning.grid_scores_, tuning.best_params_, tuning.best_score_"
   ]
  },
  {
   "cell_type": "markdown",
   "metadata": {
    "collapsed": true
   },
   "source": [
    "## subsample\n",
    "Subsample sets the fraction of samples to be used for fitting the individual base learners. Values lower than 1 generally lead to a reduction of variance and an increase in bias."
   ]
  },
  {
   "cell_type": "code",
   "execution_count": 28,
   "metadata": {},
   "outputs": [
    {
     "data": {
      "text/plain": [
       "([mean: 0.88125, std: 0.00883, params: {'subsample': 0.7},\n",
       "  mean: 0.87880, std: 0.00830, params: {'subsample': 0.75},\n",
       "  mean: 0.87962, std: 0.00875, params: {'subsample': 0.8},\n",
       "  mean: 0.87962, std: 0.00853, params: {'subsample': 0.85},\n",
       "  mean: 0.88071, std: 0.00891, params: {'subsample': 0.9},\n",
       "  mean: 0.88179, std: 0.00829, params: {'subsample': 0.95},\n",
       "  mean: 0.88098, std: 0.01004, params: {'subsample': 1}],\n",
       " {'subsample': 0.95},\n",
       " 0.8817934782608695)"
      ]
     },
     "execution_count": 28,
     "metadata": {},
     "output_type": "execute_result"
    }
   ],
   "source": [
    "p_test6= {'subsample':[0.7,0.75,0.8,0.85,0.9,0.95,1]}\n",
    "\n",
    "tuning = GridSearchCV(estimator =GradientBoostingClassifier(learning_rate=0.01, n_estimators=1500,max_depth=4, min_samples_split=40, min_samples_leaf=7,max_features=4 , random_state=10), \n",
    "param_grid = p_test6, scoring='accuracy',n_jobs=4,iid=False, cv=5)\n",
    "tuning.fit(X_train,y_train)\n",
    "tuning.grid_scores_, tuning.best_params_, tuning.best_score_"
   ]
  },
  {
   "cell_type": "markdown",
   "metadata": {},
   "source": [
    "# Evaluation of final model on Test set\n",
    "The final model performs slightly worse than the model after the first stage of parameter tuning if applied to the test set. The difference is, however, very small. "
   ]
  },
  {
   "cell_type": "code",
   "execution_count": 31,
   "metadata": {},
   "outputs": [
    {
     "name": "stdout",
     "output_type": "stream",
     "text": [
      "Accuracy of the GBM on test set: 0.888\n",
      "             precision    recall  f1-score   support\n",
      "\n",
      "          0       0.88      0.95      0.91       553\n",
      "          1       0.91      0.80      0.85       368\n",
      "\n",
      "avg / total       0.89      0.89      0.89       921\n",
      "\n"
     ]
    },
    {
     "data": {
      "image/png": "[encoded data removed]",
      "text/plain": [
       "<matplotlib.figure.Figure at 0xd1f2278>"
      ]
     },
     "metadata": {},
     "output_type": "display_data"
    }
   ],
   "source": [
    "new=GradientBoostingClassifier(learning_rate=0.01, n_estimators=1500,max_depth=4, min_samples_split=40, min_samples_leaf=7,max_features=4 , subsample=0.95, random_state=10)\n",
    "new.fit(X_train,y_train)\n",
    "predictors=list(X_train)\n",
    "feat_imp = pd.Series(new.feature_importances_, predictors).sort_values(ascending=False)\n",
    "feat_imp.plot(kind='bar', title='Importance of Features')\n",
    "plt.ylabel('Feature Importance Score')\n",
    "print('Accuracy of the GBM on test set: {:.3f}'.format(new.score(X_test, y_test)))\n",
    "pred=new.predict(X_test)\n",
    "print(classification_report(y_test, pred))"
   ]
  },
  {
   "cell_type": "markdown",
   "metadata": {
    "collapsed": true
   },
   "source": [
    "## Comparision of ROC AUC\n",
    "Comparing the area under the curve, the three models only very slightly differ. "
   ]
  },
  {
   "cell_type": "code",
   "execution_count": 44,
   "metadata": {},
   "outputs": [
    {
     "data": {
      "image/png": "[encoded data removed]",
      "text/plain": [
       "<matplotlib.figure.Figure at 0xd1a5eb8>"
      ]
     },
     "metadata": {},
     "output_type": "display_data"
    }
   ],
   "source": [
    "from sklearn import metrics\n",
    "from sklearn.metrics import roc_auc_score\n",
    "from sklearn.metrics import roc_curve \n",
    "\n",
    "\n",
    "#run models\n",
    "baseline = GradientBoostingClassifier(learning_rate=0.1, n_estimators=100,max_depth=3, min_samples_split=2, min_samples_leaf=1, subsample=1,max_features='sqrt', random_state=10)\n",
    "baseline.fit(X_train,y_train)\n",
    "\n",
    "model1 = GradientBoostingClassifier(learning_rate=0.01, n_estimators=1500,max_depth=4, min_samples_split=2, min_samples_leaf=1, subsample=1,max_features='sqrt', random_state=10)\n",
    "model1.fit(X_train,y_train)\n",
    "\n",
    "new=GradientBoostingClassifier(learning_rate=0.01, n_estimators=1500,max_depth=4, min_samples_split=40, min_samples_leaf=7,max_features=4 , subsample=0.95, random_state=10)\n",
    "new.fit(X_train,y_train)\n",
    "\n",
    "#calculate values for ROC AUC plot\n",
    "#baseline model\n",
    "baseline_roc_auc = roc_auc_score(y_test, baseline.predict(X_test))\n",
    "fprB, tprB, thresholdsB = roc_curve(y_test, baseline.predict_proba(X_test)[:,1])\n",
    "#model 1\n",
    "model1_roc_auc = roc_auc_score(y_test, model1.predict(X_test))\n",
    "fpr1, tpr1, thresholds1 = roc_curve(y_test, model1.predict_proba(X_test)[:,1])\n",
    "#new tuned model \n",
    "new_roc_auc = roc_auc_score(y_test, new.predict(X_test))\n",
    "fprnew, tprnew, thresholds_new = roc_curve(y_test, new.predict_proba(X_test)[:,1])\n",
    "\n",
    "plt.figure()\n",
    "plt.plot(fprB, tprB, label='GBM Baseline (area = %0.2f)' % baseline_roc_auc)\n",
    "plt.plot(fpr1, tpr1, label='GBM Model 1 (area = %0.2f)' % model1_roc_auc)\n",
    "plt.plot(fprnew, tprnew, label='GBM Final Model (area = %0.2f)' % new_roc_auc)\n",
    "\n",
    "plt.plot([0, 1], [0, 1],'r--')\n",
    "plt.xlim([0.0, 1.0])\n",
    "plt.ylim([0.0, 1.05])\n",
    "plt.xlabel('False Positive Rate')\n",
    "plt.ylabel('True Positive Rate')\n",
    "plt.title('Receiver operating characteristic')\n",
    "plt.legend(loc=\"lower right\")\n",
    "plt.savefig('Log_ROC')\n",
    "plt.show()\n"
   ]
  },
  {
   "cell_type": "code",
   "execution_count": null,
   "metadata": {
    "collapsed": true
   },
   "outputs": [],
   "source": []
  }
 ],
 "metadata": {
  "kernelspec": {
   "display_name": "Python 3",
   "language": "python",
   "name": "python3"
  },
  "language_info": {
   "codemirror_mode": {
    "name": "ipython",
    "version": 3
   },
   "file_extension": ".py",
   "mimetype": "text/x-python",
   "name": "python",
   "nbconvert_exporter": "python",
   "pygments_lexer": "ipython3",
   "version": "3.6.1"
  }
 },
 "nbformat": 4,
 "nbformat_minor": 2
}
